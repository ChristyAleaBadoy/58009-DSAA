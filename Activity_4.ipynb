{
  "nbformat": 4,
  "nbformat_minor": 0,
  "metadata": {
    "colab": {
      "provenance": [],
      "authorship_tag": "ABX9TyNXNVEyOZLlSheRNpqgucKO",
      "include_colab_link": true
    },
    "kernelspec": {
      "name": "python3",
      "display_name": "Python 3"
    },
    "language_info": {
      "name": "python"
    }
  },
  "cells": [
    {
      "cell_type": "markdown",
      "metadata": {
        "id": "view-in-github",
        "colab_type": "text"
      },
      "source": [
        "<a href=\"https://colab.research.google.com/github/ChristyAleaBadoy/58009-DSAA/blob/main/Activity_4.ipynb\" target=\"_parent\"><img src=\"https://colab.research.google.com/assets/colab-badge.svg\" alt=\"Open In Colab\"/></a>"
      ]
    },
    {
      "cell_type": "code",
      "execution_count": 38,
      "metadata": {
        "id": "u6moGHAj6MMJ",
        "colab": {
          "base_uri": "https://localhost:8080/"
        },
        "outputId": "0689201b-51eb-47c2-ccf5-f2f3774b29b7"
      },
      "outputs": [
        {
          "output_type": "stream",
          "name": "stdout",
          "text": [
            "Tickets: \n",
            "['VIPS001', 'VIPS002', 'VIPS003', 'VIPS004']\n",
            "\n",
            "Purchased Ticket:\n",
            "VIPS001\n",
            "\n",
            "Remaining Ticket:\n",
            "['VIPS002', 'VIPS003', 'VIPS004']\n",
            "\n",
            "Purchased Ticket:\n",
            "VIPS002\n",
            "\n",
            "Remaining Ticket:\n",
            "['VIPS003', 'VIPS004']\n",
            "\n",
            "Purchased Ticket:\n",
            "VIPS003\n",
            "\n",
            "Remaining Ticket:\n",
            "['VIPS004']\n",
            "\n",
            "Purchased Ticket:\n",
            "VIPS004\n",
            "\n",
            "Sold Out Tickets:\n",
            "[]\n"
          ]
        }
      ],
      "source": [
        "#Activity 4\n",
        "\n",
        "ConTicket = []\n",
        "ConTicket.append('VIPS001')\n",
        "ConTicket.append('VIPS002')\n",
        "ConTicket.append('VIPS003')\n",
        "ConTicket.append('VIPS004')\n",
        "\n",
        "print(\"Tickets: \")\n",
        "print(ConTicket)\n",
        "print(\"\\nPurchased Ticket:\" )\n",
        "print(ConTicket.pop(0))\n",
        "print(\"\\nRemaining Ticket:\")\n",
        "print(ConTicket)\n",
        "print(\"\\nPurchased Ticket:\" )\n",
        "print(ConTicket.pop(0))\n",
        "print(\"\\nRemaining Ticket:\")\n",
        "print(ConTicket)\n",
        "print(\"\\nPurchased Ticket:\" )\n",
        "print(ConTicket.pop(0))\n",
        "print(\"\\nRemaining Ticket:\")\n",
        "print(ConTicket)\n",
        "print(\"\\nPurchased Ticket:\" )\n",
        "print(ConTicket.pop(0))\n",
        "print(\"\\nSold Out Tickets:\")\n",
        "print(ConTicket)"
      ]
    }
  ]
}