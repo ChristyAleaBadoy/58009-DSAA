{
  "nbformat": 4,
  "nbformat_minor": 0,
  "metadata": {
    "colab": {
      "provenance": [],
      "authorship_tag": "ABX9TyMNn+Jz2CzoxQt/6xvbrRvG",
      "include_colab_link": true
    },
    "kernelspec": {
      "name": "python3",
      "display_name": "Python 3"
    },
    "language_info": {
      "name": "python"
    }
  },
  "cells": [
    {
      "cell_type": "markdown",
      "metadata": {
        "id": "view-in-github",
        "colab_type": "text"
      },
      "source": [
        "<a href=\"https://colab.research.google.com/github/ChristyAleaBadoy/58009-DSAA/blob/main/LongQuiz1.ipynb\" target=\"_parent\"><img src=\"https://colab.research.google.com/assets/colab-badge.svg\" alt=\"Open In Colab\"/></a>"
      ]
    },
    {
      "cell_type": "code",
      "source": [
        "name = [\"Christy\",\"Alea\",\"R\"]\n",
        "name.append(\"badoy\")\n",
        "print(name)\n",
        "\n",
        "name = [\"Christy\",\"Alea\",\"R\",\"Badoy\"]\n",
        "name.reverse()\n",
        "print(name)\n"
      ],
      "metadata": {
        "colab": {
          "base_uri": "https://localhost:8080/"
        },
        "id": "LUZCCkNe7LAD",
        "outputId": "71e13b67-2073-45b6-da96-16b371de07fb"
      },
      "execution_count": 61,
      "outputs": [
        {
          "output_type": "stream",
          "name": "stdout",
          "text": [
            "['Christy', 'Alea', 'R', 'badoy']\n",
            "['Badoy', 'R', 'Alea', 'Christy']\n"
          ]
        }
      ]
    },
    {
      "cell_type": "code",
      "source": [
        "class Node:\n",
        "    def __init__(self, data):\n",
        "        self.data = data\n",
        "        self.next = None\n",
        "\n",
        "def the_prime(num):\n",
        "    if num < 2:\n",
        "        return False\n",
        "    for i in range(2, num):\n",
        "        if num % i == 0:\n",
        "            return False\n",
        "    return True\n",
        "\n",
        "def the_composite(num):\n",
        "    if num < 1:\n",
        "        return False\n",
        "    for n in range(1, num):\n",
        "        if num % n == 0:\n",
        "            return False\n",
        "    return True\n",
        "\n",
        "\n",
        "\n",
        "def display_linked_list(head):\n",
        "    current = head\n",
        "    while current:\n",
        "        print(current.data, end=\" \")\n",
        "        current = current.next\n",
        "    print(\"\")\n",
        "if __name__=='__main__':\n",
        "\n",
        "    limit = 10\n",
        "\n",
        "    print(\"Prime Numbers:\")\n",
        "\n",
        "    display_linked_list(prime_head)\n",
        "\n",
        "    print(\"Composite Numbers: \")\n",
        "\n",
        "\n",
        "\n",
        ""
      ],
      "metadata": {
        "colab": {
          "base_uri": "https://localhost:8080/"
        },
        "id": "21A1-ZdS7cg6",
        "outputId": "9466b171-73a2-4a58-8110-5598e6657a4b"
      },
      "execution_count": 58,
      "outputs": [
        {
          "output_type": "stream",
          "name": "stdout",
          "text": [
            "Prime Numbers:\n",
            "2 3 5 7 \n",
            "Composite Numbers: \n"
          ]
        }
      ]
    },
    {
      "cell_type": "code",
      "source": [
        "class Node:\n",
        "    def __init__(self, data):\n",
        "        self.data = data\n",
        "        self.next = None\n",
        "\n",
        "def the_prime(num):\n",
        "    if num < 2:\n",
        "        return False\n",
        "    for i in range(2, num):\n",
        "        if num % i == 0:\n",
        "            return False\n",
        "    return True\n",
        "\n",
        "\n",
        "\n",
        "def display_linked_list(head):\n",
        "    current = head\n",
        "    while current:\n",
        "        print(current.data, end=\" \")\n",
        "        current = current.next\n",
        "    print(\"\")\n",
        "if __name__=='__main__':\n",
        "\n",
        "    limit = 10\n",
        "\n",
        "    print(\"The Prime Numbers between 1 to 10: \")\n",
        "\n",
        "    display_linked_list(prime_head)\n",
        "\n",
        "start = 1;\n",
        "end = 10;\n",
        "count = 0;\n",
        "\n",
        "print(\"Composite Numbers between %d and %d: \" % (start, end));\n",
        "\n",
        "for start in range(start, end+1):\n",
        "    for i in range(1, start+1):\n",
        "        if(start % i == 0):\n",
        "            count += 1;\n",
        "    if(count > 2):\n",
        "       print(start, end=\" \")\n",
        "    count = 0"
      ],
      "metadata": {
        "colab": {
          "base_uri": "https://localhost:8080/"
        },
        "id": "BIaNKrRY8H1P",
        "outputId": "17b2dd94-4c27-4528-ea32-566dd198f852"
      },
      "execution_count": 60,
      "outputs": [
        {
          "output_type": "stream",
          "name": "stdout",
          "text": [
            "The Prime Numbers between 1 to 10: \n",
            "2 3 5 7 \n",
            "Composite Numbers between 1 and 10: \n",
            "4 6 8 9 10 "
          ]
        }
      ]
    }
  ]
}