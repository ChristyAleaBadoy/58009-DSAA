{
  "nbformat": 4,
  "nbformat_minor": 0,
  "metadata": {
    "colab": {
      "provenance": [],
      "authorship_tag": "ABX9TyMGJhWyo1IM6B+JTJER2GKg",
      "include_colab_link": true
    },
    "kernelspec": {
      "name": "python3",
      "display_name": "Python 3"
    },
    "language_info": {
      "name": "python"
    }
  },
  "cells": [
    {
      "cell_type": "markdown",
      "metadata": {
        "id": "view-in-github",
        "colab_type": "text"
      },
      "source": [
        "<a href=\"https://colab.research.google.com/github/ChristyAleaBadoy/58009-DSAA/blob/main/labact8.ipynb\" target=\"_parent\"><img src=\"https://colab.research.google.com/assets/colab-badge.svg\" alt=\"Open In Colab\"/></a>"
      ]
    },
    {
      "cell_type": "code",
      "execution_count": 3,
      "metadata": {
        "colab": {
          "base_uri": "https://localhost:8080/"
        },
        "id": "l-s5wvxQGhiq",
        "outputId": "6d4f8151-75c1-4775-ec9e-7ebf45f53a63"
      },
      "outputs": [
        {
          "output_type": "stream",
          "name": "stdout",
          "text": [
            "Enqueued Element: 1\n",
            "Enqueued Element: 2\n",
            "Enqueued Element: 3\n",
            "Enqueued Element: 4\n",
            "Enqueued Element: 5\n",
            "The elements in the queue are:['1', '2', '3', '4', '5']\n"
          ]
        }
      ],
      "source": [
        "def create_Q():\n",
        "    Q = []\n",
        "    return Q\n",
        "\n",
        "def is_empty(Q):\n",
        "    return len(Q) == 0\n",
        "\n",
        "def enqueue(Q, item):\n",
        "    Q.append(item)\n",
        "    print(\"Enqueued Element: \" + item)\n",
        "\n",
        "def dequeue(Q):\n",
        "    if (is_empty(Q)):\n",
        "        return \"The queue is empty\"\n",
        "    return Q.dequeue()\n",
        "\n",
        "queue = create_Q()\n",
        "enqueue(queue, str(1))\n",
        "enqueue(queue, str(2))\n",
        "enqueue(queue, str(3))\n",
        "enqueue(queue, str(4))\n",
        "enqueue(queue, str(5))\n",
        "\n",
        "print(\"The elements in the queue are:\"+ str(queue))"
      ]
    }
  ]
}