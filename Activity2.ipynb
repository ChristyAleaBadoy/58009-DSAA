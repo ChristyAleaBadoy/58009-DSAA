{
  "nbformat": 4,
  "nbformat_minor": 0,
  "metadata": {
    "colab": {
      "provenance": [],
      "authorship_tag": "ABX9TyMyD77OYTGwrQYcsRQrZo4Y",
      "include_colab_link": true
    },
    "kernelspec": {
      "name": "python3",
      "display_name": "Python 3"
    },
    "language_info": {
      "name": "python"
    }
  },
  "cells": [
    {
      "cell_type": "markdown",
      "metadata": {
        "id": "view-in-github",
        "colab_type": "text"
      },
      "source": [
        "<a href=\"https://colab.research.google.com/github/ChristyAleaBadoy/58009-DSAA/blob/main/Activity2.ipynb\" target=\"_parent\"><img src=\"https://colab.research.google.com/assets/colab-badge.svg\" alt=\"Open In Colab\"/></a>"
      ]
    },
    {
      "cell_type": "code",
      "source": [
        "class Node:\n",
        "    def __init__(self, data):\n",
        "        self.data = data\n",
        "        self.next = None\n",
        "\n",
        "def the_prime(num):\n",
        "    if num < 2:\n",
        "        return False\n",
        "    for i in range(2, num):\n",
        "        if num % i == 0:\n",
        "            return False\n",
        "    return True\n",
        "\n",
        "def prime_linked_list(limit):\n",
        "    head = None\n",
        "    tail = None\n",
        "    for num in range(2, limit):\n",
        "        if the_prime(num):\n",
        "            new_node = Node(num)\n",
        "            if not head:\n",
        "                head = new_node\n",
        "                tail = new_node\n",
        "            else:\n",
        "                tail.next = new_node\n",
        "                tail = new_node\n",
        "    return head, tail\n",
        "\n",
        "def display_linked_list(head):\n",
        "    current = head\n",
        "    while current:\n",
        "        print(current.data, end=\" \")\n",
        "        current = current.next\n",
        "    print(\"\")\n",
        "if __name__=='__main__':\n",
        "\n",
        "    limit = 20\n",
        "    prime_head, prime_tail = prime_linked_list(limit)\n",
        "\n",
        "    print(\"Prime Numbers:\")\n",
        "\n",
        "    display_linked_list(prime_head)\n",
        "\n",
        "    print(\"Head of the list:\", prime_head.data)\n",
        "\n",
        "    print(\"Tail of the list:\", prime_tail.data)"
      ],
      "metadata": {
        "colab": {
          "base_uri": "https://localhost:8080/"
        },
        "id": "PhtBBUp7c6g_",
        "outputId": "41ede9eb-ef9f-4c16-e061-6d5faa4dcdbb"
      },
      "execution_count": 32,
      "outputs": [
        {
          "output_type": "stream",
          "name": "stdout",
          "text": [
            "Prime Numbers:\n",
            "2 3 5 7 11 13 17 19 \n",
            "Head of the list: 2\n",
            "Tail of the list: 19\n"
          ]
        }
      ]
    }
  ]
}