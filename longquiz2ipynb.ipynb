{
  "nbformat": 4,
  "nbformat_minor": 0,
  "metadata": {
    "colab": {
      "provenance": [],
      "authorship_tag": "ABX9TyN/nfuhNF8nxqRZzajF1720",
      "include_colab_link": true
    },
    "kernelspec": {
      "name": "python3",
      "display_name": "Python 3"
    },
    "language_info": {
      "name": "python"
    }
  },
  "cells": [
    {
      "cell_type": "markdown",
      "metadata": {
        "id": "view-in-github",
        "colab_type": "text"
      },
      "source": [
        "<a href=\"https://colab.research.google.com/github/ChristyAleaBadoy/58009-DSAA/blob/main/longquiz2ipynb.ipynb\" target=\"_parent\"><img src=\"https://colab.research.google.com/assets/colab-badge.svg\" alt=\"Open In Colab\"/></a>"
      ]
    },
    {
      "cell_type": "code",
      "execution_count": 1,
      "metadata": {
        "id": "7xZNzjkbgjpA",
        "colab": {
          "base_uri": "https://localhost:8080/"
        },
        "outputId": "2d40d9f5-885b-4d90-dd32-6bfe18c76b67"
      },
      "outputs": [
        {
          "output_type": "stream",
          "name": "stdout",
          "text": [
            "['E', 'F', 'H', 'I', 'J', 'K', 'M', 'P']\n"
          ]
        }
      ],
      "source": [
        "class graph:\n",
        "    def __init__(self,gdict=None):\n",
        "        if gdict is None:\n",
        "            gdict = []\n",
        "        self.gdict = gdict\n",
        "\n",
        "    def getVertices(self):\n",
        "        return list(self.gdict.keys())\n",
        "\n",
        "graph_elements = {\n",
        "     \"E\" : [\"I\",\"K\",\"M\"],\n",
        "     \"F\" : [\"I\",\"J\",\"K\",\"P\"],\n",
        "     \"H\" : [\"I\",\"J\",\"K\"],\n",
        "     \"I\" : [\"E\",\"F\",\"H\"],\n",
        "     \"J\" : [\"E\",\"F\",\"H\"],\n",
        "     \"K\" : [\"E\",\"F\",\"H\"],\n",
        "     \"M\" : [\"E\"],\n",
        "     \"P\" : [\"F\"]\n",
        "}\n",
        "g=graph(graph_elements)\n",
        "print(g.getVertices())"
      ]
    },
    {
      "cell_type": "code",
      "source": [
        "class graph:\n",
        "    def __init__(self,gdict=None):\n",
        "        if gdict is None:\n",
        "            gdict = {}\n",
        "        self.gdict = gdict\n",
        "\n",
        "    def edges(self):\n",
        "        return self.findedges()\n",
        "\n",
        "    def findedges(self):\n",
        "        edgename = []\n",
        "        for vrtx in self.gdict:\n",
        "            for nxtvrtx in self.gdict[vrtx]:\n",
        "                if {nxtvrtx, vrtx} not in edgename:\n",
        "                    edgename.append ({vrtx, nxtvrtx})\n",
        "        return edgename\n",
        "\n",
        "graph_elements = {\n",
        "     \"E\" : [\"I\",\"K\",\"M\"],\n",
        "     \"F\" : [\"I\",\"J\",\"K\",\"P\"],\n",
        "     \"H\" : [\"I\",\"J\",\"K\"],\n",
        "     \"I\" : [\"E\",\"F\",\"H\"],\n",
        "     \"J\" : [\"E\",\"F\",\"H\"],\n",
        "     \"K\" : [\"E\",\"F\",\"H\"],\n",
        "     \"M\" : [\"E\"],\n",
        "     \"P\" : [\"F\"]\n",
        "}\n",
        "g = graph(graph_elements)\n",
        "print(g.edges())"
      ],
      "metadata": {
        "colab": {
          "base_uri": "https://localhost:8080/"
        },
        "id": "Fge34ycCyNCb",
        "outputId": "5c705cdd-e7dc-49d6-a289-ff75ae556055"
      },
      "execution_count": 2,
      "outputs": [
        {
          "output_type": "stream",
          "name": "stdout",
          "text": [
            "[{'I', 'E'}, {'K', 'E'}, {'M', 'E'}, {'F', 'I'}, {'F', 'J'}, {'F', 'K'}, {'F', 'P'}, {'H', 'I'}, {'J', 'H'}, {'K', 'H'}, {'J', 'E'}]\n"
          ]
        }
      ]
    }
  ]
}