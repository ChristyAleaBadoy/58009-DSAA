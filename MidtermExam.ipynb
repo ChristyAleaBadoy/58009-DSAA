{
  "nbformat": 4,
  "nbformat_minor": 0,
  "metadata": {
    "colab": {
      "provenance": [],
      "authorship_tag": "ABX9TyM0eXpkRmzOofAGFJpda72z",
      "include_colab_link": true
    },
    "kernelspec": {
      "name": "python3",
      "display_name": "Python 3"
    },
    "language_info": {
      "name": "python"
    }
  },
  "cells": [
    {
      "cell_type": "markdown",
      "metadata": {
        "id": "view-in-github",
        "colab_type": "text"
      },
      "source": [
        "<a href=\"https://colab.research.google.com/github/ChristyAleaBadoy/58009-DSAA/blob/main/MidtermExam.ipynb\" target=\"_parent\"><img src=\"https://colab.research.google.com/assets/colab-badge.svg\" alt=\"Open In Colab\"/></a>"
      ]
    },
    {
      "cell_type": "markdown",
      "source": [
        "EDGES"
      ],
      "metadata": {
        "id": "2PXUNE0xPka4"
      }
    },
    {
      "cell_type": "code",
      "execution_count": 3,
      "metadata": {
        "colab": {
          "base_uri": "https://localhost:8080/"
        },
        "id": "4rc3FpgjH2r1",
        "outputId": "4a815fdf-47d4-4d95-9b51-a62189088ef2"
      },
      "outputs": [
        {
          "output_type": "stream",
          "name": "stdout",
          "text": [
            "[{'B', 'A'}, {'B', 'C'}, {'B', 'E'}, {'B', 'F'}, {'C', 'D'}, {'E', 'C'}, {'C', 'F'}, {'C', 'I'}, {'C', 'M'}, {'K', 'D'}, {'L', 'D'}, {'E', 'N'}, {'G', 'F'}, {'I', 'F'}, {'G', 'I'}, {'G', 'J'}, {'J', 'I'}, {'K', 'I'}, {'J', 'K'}, {'L', 'M'}, {'L', 'P'}, {'N', 'M'}, {'O', 'M'}, {'P', 'M'}, {'O', 'N'}, {'O', 'P'}]\n"
          ]
        }
      ],
      "source": [
        "class graph:\n",
        "    def __init__(self,gdict=None):\n",
        "        if gdict is None:\n",
        "            gdict = {}\n",
        "        self.gdict = gdict\n",
        "\n",
        "    def edges(self):\n",
        "        return self.findedges()\n",
        "\n",
        "    def findedges(self):\n",
        "        edgename = []\n",
        "        for vrtx in self.gdict:\n",
        "            for nxtvrtx in self.gdict[vrtx]:\n",
        "                if {nxtvrtx, vrtx} not in edgename:\n",
        "                    edgename.append ({vrtx, nxtvrtx})\n",
        "        return edgename\n",
        "\n",
        "graph_elements = {\n",
        "     \"A\" : [\"B\"],\n",
        "     \"B\" : [\"C\",\"E\",\"F\"],\n",
        "     \"C\" : [\"B\",\"D\",\"E\",\"F\",\"I\",\"M\"],\n",
        "     \"D\" : [\"C\",\"K\",\"L\"],\n",
        "     \"E\" : [\"B\",\"C\",\"N\"],\n",
        "     \"F\" : [\"B\",\"C\",\"G\",\"I\"],\n",
        "     \"G\" : [\"F\",\"I\",\"J\"],\n",
        "     \"I\" : [\"C\",\"F\",\"G\",\"J\",\"K\"],\n",
        "     \"J\" : [\"I\",\"G\",\"K\"],\n",
        "     \"K\" : [\"D\",\"I\",\"J\"],\n",
        "     \"L\" : [\"D\",\"M\",\"P\"],\n",
        "     \"M\" : [\"C\",\"N\",\"O\",\"P\"],\n",
        "     \"N\" : [\"E\",\"M\",\"O\"],\n",
        "     \"O\" : [\"M\",\"N\",\"P\"],\n",
        "     \"P\" : [\"L\",\"M\",\"O\"]\n",
        "\n",
        "}\n",
        "g = graph(graph_elements)\n",
        "print(g.edges())"
      ]
    },
    {
      "cell_type": "markdown",
      "source": [
        "VERTICES"
      ],
      "metadata": {
        "id": "-3765VKtPn1P"
      }
    },
    {
      "cell_type": "code",
      "source": [
        "class graph:\n",
        "    def __init__(self,gdict=None):\n",
        "        if gdict is None:\n",
        "            gdict = []\n",
        "        self.gdict = gdict\n",
        "\n",
        "    def getVertices(self):\n",
        "        return list(self.gdict.keys())\n",
        "\n",
        "graph_elements = {\n",
        "     \"A\" : [\"B\"],\n",
        "     \"B\" : [\"C\",\"E\",\"F\"],\n",
        "     \"C\" : [\"B\",\"D\",\"E\",\"F\",\"I\",\"M\"],\n",
        "     \"D\" : [\"C\",\"K\",\"L\"],\n",
        "     \"E\" : [\"B\",\"C\",\"N\"],\n",
        "     \"F\" : [\"B\",\"C\",\"G\",\"I\"],\n",
        "     \"G\" : [\"F\",\"I\",\"J\"],\n",
        "     \"I\" : [\"C\",\"F\",\"G\",\"J\",\"K\"],\n",
        "     \"J\" : [\"I\",\"G\",\"K\"],\n",
        "     \"K\" : [\"D\",\"I\",\"J\"],\n",
        "     \"L\" : [\"D\",\"M\",\"P\"],\n",
        "     \"M\" : [\"C\",\"N\",\"O\",\"P\"],\n",
        "     \"N\" : [\"E\",\"M\",\"O\"],\n",
        "     \"O\" : [\"M\",\"N\",\"P\"],\n",
        "     \"P\" : [\"L\",\"M\",\"O\"]\n",
        "}\n",
        "g=graph(graph_elements)\n",
        "print(g.getVertices())"
      ],
      "metadata": {
        "colab": {
          "base_uri": "https://localhost:8080/"
        },
        "id": "9LNWl7NqPb34",
        "outputId": "1a68e44a-f2a8-46b8-c460-3318d1feb6f4"
      },
      "execution_count": 4,
      "outputs": [
        {
          "output_type": "stream",
          "name": "stdout",
          "text": [
            "['A', 'B', 'C', 'D', 'E', 'F', 'G', 'I', 'J', 'K', 'L', 'M', 'N', 'O', 'P']\n"
          ]
        }
      ]
    }
  ]
}