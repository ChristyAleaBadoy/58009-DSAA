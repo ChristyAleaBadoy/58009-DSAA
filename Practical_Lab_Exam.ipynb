{
  "nbformat": 4,
  "nbformat_minor": 0,
  "metadata": {
    "colab": {
      "provenance": [],
      "authorship_tag": "ABX9TyOcErNZY9BMLXe91goD51rA",
      "include_colab_link": true
    },
    "kernelspec": {
      "name": "python3",
      "display_name": "Python 3"
    },
    "language_info": {
      "name": "python"
    }
  },
  "cells": [
    {
      "cell_type": "markdown",
      "metadata": {
        "id": "view-in-github",
        "colab_type": "text"
      },
      "source": [
        "<a href=\"https://colab.research.google.com/github/ChristyAleaBadoy/58009-DSAA/blob/main/Practical_Lab_Exam.ipynb\" target=\"_parent\"><img src=\"https://colab.research.google.com/assets/colab-badge.svg\" alt=\"Open In Colab\"/></a>"
      ]
    },
    {
      "cell_type": "code",
      "source": [
        "def sum_odd_testscores(arr):\n",
        "  total = 0\n",
        "  for testscores in arr:\n",
        "    if testscores % 2 != 0:\n",
        "     total += testscores\n",
        "  return total\n",
        "\n",
        "testscores = [26,49,98,87,62,75]\n",
        "result = sum_odd_testscores(testscores)\n",
        "print('Sum of odd numbers Test scores is: ',result)"
      ],
      "metadata": {
        "colab": {
          "base_uri": "https://localhost:8080/"
        },
        "id": "rX173jw7dE2A",
        "outputId": "d3ccdf49-4792-4af7-9115-5f3b855978b6"
      },
      "execution_count": 3,
      "outputs": [
        {
          "output_type": "stream",
          "name": "stdout",
          "text": [
            "Sum of odd numbers Test scores is:  211\n"
          ]
        }
      ]
    }
  ]
}