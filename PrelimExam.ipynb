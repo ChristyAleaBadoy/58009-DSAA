{
  "nbformat": 4,
  "nbformat_minor": 0,
  "metadata": {
    "colab": {
      "provenance": [],
      "authorship_tag": "ABX9TyMgo38AjiYo+0aAHzCa/DJp",
      "include_colab_link": true
    },
    "kernelspec": {
      "name": "python3",
      "display_name": "Python 3"
    },
    "language_info": {
      "name": "python"
    }
  },
  "cells": [
    {
      "cell_type": "markdown",
      "metadata": {
        "id": "view-in-github",
        "colab_type": "text"
      },
      "source": [
        "<a href=\"https://colab.research.google.com/github/ChristyAleaBadoy/58009-DSAA/blob/main/PrelimExam.ipynb\" target=\"_parent\"><img src=\"https://colab.research.google.com/assets/colab-badge.svg\" alt=\"Open In Colab\"/></a>"
      ]
    },
    {
      "cell_type": "code",
      "execution_count": 1,
      "metadata": {
        "id": "u6moGHAj6MMJ",
        "colab": {
          "base_uri": "https://localhost:8080/"
        },
        "outputId": "defbd4d9-6623-4c7b-bddf-f189924cebe3"
      },
      "outputs": [
        {
          "output_type": "stream",
          "name": "stdout",
          "text": [
            "397\n",
            "[26, 49, 62, 75, 87, 98]\n"
          ]
        }
      ],
      "source": [
        "num = [26,49,98,87,62,75]\n",
        "\n",
        "sum = num[0] + num[1] + num[2] + num[3] + num[4] + num[5]\n",
        "print(sum)\n",
        "\n",
        "num = [26,49,98,87,62,75]\n",
        "num.sort()\n",
        "print(num)"
      ]
    }
  ]
}